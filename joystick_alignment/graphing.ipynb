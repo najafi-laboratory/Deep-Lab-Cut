{
 "cells": [
  {
   "cell_type": "code",
   "execution_count": 70,
   "metadata": {},
   "outputs": [],
   "source": [
    "# Import necessary libraries\n",
    "import pandas as pd\n",
    "import plotly.graph_objects as go\n",
    "from plotly.subplots import make_subplots\n",
    "import numpy as np\n",
    "from sklearn.preprocessing import StandardScaler\n",
    "import math\n",
    "import plotly.io as pio"
   ]
  },
  {
   "cell_type": "code",
   "execution_count": 71,
   "metadata": {},
   "outputs": [
    {
     "name": "stdout",
     "output_type": "stream",
     "text": [
      "FN13_20240618\n"
     ]
    }
   ],
   "source": [
    "# Save name of mouse we are graphing\n",
    "mouse = input(\"What mouse are you graphing?\\t\")\n",
    "print(mouse)"
   ]
  },
  {
   "cell_type": "code",
   "execution_count": 72,
   "metadata": {},
   "outputs": [],
   "source": [
    "# Load in all data necessary for graphing\n",
    "area_per_frame = pd.read_csv(\"../pupil_data_analysis/FN13_js_self/area_per_frame_no_outliers.csv\").iloc[:, 1]\n",
    "camlog_times = pd.read_excel(\"camlog.xlsx\")\n",
    "trial_times = pd.read_csv(\"trial_times.csv\")\n",
    "# print(area_per_frame.head())\n",
    "# print(camlog_times.head())\n",
    "# print(trial_times.head())"
   ]
  },
  {
   "cell_type": "code",
   "execution_count": 73,
   "metadata": {},
   "outputs": [
    {
     "name": "stdout",
     "output_type": "stream",
     "text": [
      "Total trials detected: 164\n"
     ]
    }
   ],
   "source": [
    "trials = []\n",
    "trial = []\n",
    "trial_num = 0\n",
    "inTrial = False\n",
    "startTime = camlog_times.iloc[0]\n",
    "\n",
    "for index, camlog in camlog_times.iterrows():\n",
    "    # Check trial_num overflow before proceeding\n",
    "    if trial_num >= len(trial_times):\n",
    "        # print(f\"Trial number {trial_num} exceeded bounds. Exiting.\")\n",
    "        break\n",
    "\n",
    "    # Compute time delta between camlog and startTime\n",
    "    delta = (camlog - startTime).iloc[0] if isinstance(camlog - startTime, pd.Series) else camlog - startTime\n",
    "    # print(delta)\n",
    "\n",
    "    # End trial if the current time exceeds trial end time\n",
    "    if delta > trial_times.iloc[trial_num, 2] and inTrial:\n",
    "        # print(f\"Trial {trial_num + 1} End: {delta}\")\n",
    "        trials.append(trial)\n",
    "        inTrial = False\n",
    "        trial_num += 1\n",
    "        # print(f\"Moving to trial {trial_num}\")\n",
    "        \n",
    "        # Re-check trial_num bounds after incrementing\n",
    "        if trial_num >= len(trial_times):\n",
    "            # print(f\"Trial number {trial_num} exceeded bounds after increment. Exiting.\")\n",
    "            break\n",
    "\n",
    "    # Start a new trial if the current time exceeds trial start time and not already in trial\n",
    "    elif delta > trial_times.iloc[trial_num, 1] and not inTrial:\n",
    "        # print(f\"Trial {trial_num + 1} Start: {delta}\")\n",
    "        trial = []\n",
    "        inTrial = True\n",
    "\n",
    "    # Always append index to trial if in a trial\n",
    "    if inTrial:\n",
    "        trial.append(index)\n",
    "\n",
    "print(f\"Total trials detected: {len(trials)}\")\n"
   ]
  },
  {
   "cell_type": "code",
   "execution_count": 74,
   "metadata": {},
   "outputs": [],
   "source": [
    "pio.renderers.default = 'browser'  # This will open the plots in your default web browser\n",
    "\n",
    "pages = 2\n",
    "num_graphs = len(trials)\n",
    "for index in range(pages):\n",
    "    # Creates each subplot and creates a placeholder subplot title\n",
    "    fig = make_subplots(\n",
    "        rows=int(np.ceil(num_graphs / pages)), \n",
    "        cols=1, \n",
    "        subplot_titles=[f\"temp_subtitle {int(date)}\" for date in range(int(num_graphs))]\n",
    "    )\n",
    "    # Creates pupil area subplot graphs in each graphset\n",
    "    start = index * int(num_graphs / pages)\n",
    "    end = min((index + 1) * int(num_graphs / pages), len(trials))\n",
    "    for i in range(start, end):\n",
    "        fig.append_trace(go.Scatter(\n",
    "            x=trials[i],\n",
    "            y=area_per_frame.iloc[trials[i][0]:trials[i][-1]],\n",
    "            showlegend=False,\n",
    "            line=dict(color='black'),\n",
    "        ), row=i + 1 - index * int(num_graphs / pages), col=1)\n",
    "\n",
    "        # Updates all the labels around each of the subplots\n",
    "        fig.layout.annotations[i - index * int(num_graphs / pages)]['text'] = \"Subplot \" + str(\n",
    "            i + 1) + \": Frames \" + str(trials[i][0]) + \" - \" + str(\n",
    "            trials[i][-1]) + \" and Seconds: \" + str(\n",
    "            round(trials[i][0] / 30)) + \" - \" + str(round(trials[i][-1] / 30))\n",
    "        fig.update_xaxes(row=i + 1 - index * int(num_graphs / pages),\n",
    "                         col=1,\n",
    "                         title_text=\"Time (Seconds)\",\n",
    "                         showline=True,\n",
    "                         linewidth=2,\n",
    "                         linecolor='black',\n",
    "                         ticks=\"outside\",\n",
    "                         tickwidth=1,\n",
    "                         tickcolor='black',\n",
    "                         ticklen=7)\n",
    "        fig.update_yaxes(row=i + 1 - index * int(num_graphs / pages),\n",
    "                         col=1,\n",
    "                         title_text=\"Pupil Area (Pixels)\",\n",
    "                         showline=True,\n",
    "                         linewidth=2,\n",
    "                         linecolor='black',\n",
    "                         dtick=100,\n",
    "                         ticks=\"outside\",\n",
    "                         tickwidth=1,\n",
    "                         tickcolor='black',\n",
    "                         ticklen=7)\n",
    "\n",
    "    fig.update_layout(title=\"Graph Set \" + str(index + 1) + \" \" + mouse + \" Pupil Area for each Trial\",\n",
    "                      height=250 * 100,\n",
    "                      width=1250,\n",
    "                      plot_bgcolor=\"white\")\n",
    "\n",
    "    # fig.write_html(\"graph_set_\" + str(index + 1) + \"_\" + mouse + \"_pupil_area_per_trial.html\")\n",
    "\n",
    "    # Shows the first 5 Graph Sets to confirm everything is working as intended\n",
    "    if index < 5:\n",
    "        fig.show()\n",
    "    index = index + 1"
   ]
  }
 ],
 "metadata": {
  "kernelspec": {
   "display_name": "timeTrial",
   "language": "python",
   "name": "python3"
  },
  "language_info": {
   "codemirror_mode": {
    "name": "ipython",
    "version": 3
   },
   "file_extension": ".py",
   "mimetype": "text/x-python",
   "name": "python",
   "nbconvert_exporter": "python",
   "pygments_lexer": "ipython3",
   "version": "3.12.5"
  }
 },
 "nbformat": 4,
 "nbformat_minor": 2
}
